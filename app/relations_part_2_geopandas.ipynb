{
 "cells": [
  {
   "cell_type": "code",
   "execution_count": 1,
   "metadata": {},
   "outputs": [],
   "source": [
    "import pandas as pd\n",
    "import geopandas as gpd\n",
    "from shapely.wkt import loads\n",
    "from shapely.geometry import Polygon, MultiPolygon, LineString\n",
    "\n",
    "datasets = [\n",
    "        {\"file\": \"data/ads24-buildings.csv\", \"collection\": \"buildings\"},\n",
    "        {\"file\": \"data/ads24-cities.csv\", \"collection\": \"cities\"},\n",
    "        {\"file\": \"data/ads24-communes.csv\", \"collection\": \"communes\"},\n",
    "        {\"file\": \"data/ads24-powiats.csv\", \"collection\": \"powiats\"},\n",
    "        {\"file\": \"data/ads24-voivodships.csv\", \"collection\": \"voivodships\"},\n",
    "        {\"file\": \"data/ads24-countries.csv\", \"collection\": \"countries\"},\n",
    "        {\"file\": \"data/ads24-railways.csv\", \"collection\": \"railways\"},\n",
    "        {\"file\": \"data/ads24-trees.csv\", \"collection\": \"trees\"},\n",
    "        {\"file\": \"data/ads24-roads.csv\", \"collection\": \"roads\"}\n",
    "]\n",
    "gpd.options.display_precision = 15"
   ]
  },
  {
   "cell_type": "code",
   "execution_count": 2,
   "metadata": {},
   "outputs": [
    {
     "name": "stderr",
     "output_type": "stream",
     "text": [
      "C:\\Users\\Jan\\AppData\\Local\\Temp\\ipykernel_1752\\4126513750.py:6: DtypeWarning: Columns (3,4) have mixed types. Specify dtype option on import or set low_memory=False.\n",
      "  roads = pd.read_csv(datasets[8][\"file\"])\n"
     ]
    }
   ],
   "source": [
    "import geopandas as gpd\n",
    "from shapely import wkt\n",
    "import pandas as pd\n",
    "\n",
    "trees = pd.read_csv(datasets[7][\"file\"])\n",
    "roads = pd.read_csv(datasets[8][\"file\"])"
   ]
  },
  {
   "cell_type": "code",
   "execution_count": 3,
   "metadata": {},
   "outputs": [],
   "source": [
    "trees['geometry'] = trees['wkt'].apply(loads)\n",
    "roads['geometry'] = roads['wkt'].apply(loads)\n",
    "\n",
    "trees = gpd.GeoDataFrame(trees, geometry='geometry', crs='EPSG:4326')\n",
    "roads = gpd.GeoDataFrame(roads, geometry='geometry', crs='EPSG:4326')"
   ]
  },
  {
   "cell_type": "code",
   "execution_count": 4,
   "metadata": {},
   "outputs": [],
   "source": [
    "trees = trees.to_crs(\"EPSG:3857\")\n",
    "roads = roads.to_crs(\"EPSG:3857\")\n",
    "\n",
    "roads['buffer'] = roads.geometry.buffer(20) "
   ]
  },
  {
   "cell_type": "code",
   "execution_count": 7,
   "metadata": {},
   "outputs": [],
   "source": [
    "trees = trees.set_geometry('geometry')\n",
    "roads = roads.set_geometry('buffer')"
   ]
  },
  {
   "cell_type": "code",
   "execution_count": 8,
   "metadata": {},
   "outputs": [],
   "source": [
    "trees_near_roads = gpd.sjoin(trees, roads[['id', 'buffer']], how='inner', predicate='within')"
   ]
  },
  {
   "cell_type": "code",
   "execution_count": 10,
   "metadata": {},
   "outputs": [
    {
     "name": "stdout",
     "output_type": "stream",
     "text": [
      "           id_left                                           wkt  \\\n",
      "1        757743502          POINT(14.766514200000001 53.3924755)   \n",
      "7        757743512                  POINT(14.7665628 53.3924442)   \n",
      "10       757743518          POINT(14.7666763 53.392368100000006)   \n",
      "11       757743521          POINT(14.766734000000001 53.3923093)   \n",
      "16       757743531  POINT(14.767384300000002 53.391852300000004)   \n",
      "...            ...                                           ...   \n",
      "1121898  757737841          POINT(14.7709516 53.394697300000004)   \n",
      "1121901  757737846           POINT(14.603349600000001 53.369444)   \n",
      "1121901  757737846           POINT(14.603349600000001 53.369444)   \n",
      "1121908  757737857                  POINT(14.6034476 53.3695584)   \n",
      "1121910  757737860          POINT(14.603174300000001 53.3692579)   \n",
      "\n",
      "                                                  geometry  index_right  \\\n",
      "1        POINT (1643800.841535643441603 7055927.8166989...       113201   \n",
      "7        POINT (1643806.251662896247581 7055921.9737981...       113201   \n",
      "10       POINT (1643818.886425100965425 7055907.7679135...       113201   \n",
      "11       POINT (1643825.309559720102698 7055896.7915050...       113201   \n",
      "16       POINT (1643897.700624583056197 7055811.4821799...        98985   \n",
      "...                                                    ...          ...   \n",
      "1121898  POINT (1644294.810644089709967 7056342.5802947...        19146   \n",
      "1121901  POINT (1625637.441348155494779 7051629.5922118...      1062380   \n",
      "1121901  POINT (1625637.441348155494779 7051629.5922118...      1168623   \n",
      "1121908  POINT (1625648.350658253300935 7051650.9362229...      1062380   \n",
      "1121910  POINT (1625617.927041419316083 7051594.8710016...      1168623   \n",
      "\n",
      "          id_right  \n",
      "1         61954209  \n",
      "7         61954209  \n",
      "10        61954209  \n",
      "11        61954209  \n",
      "16        53557486  \n",
      "...            ...  \n",
      "1121898   27532533  \n",
      "1121901  410359530  \n",
      "1121901  475695130  \n",
      "1121908  410359530  \n",
      "1121910  475695130  \n",
      "\n",
      "[735349 rows x 5 columns]\n"
     ]
    }
   ],
   "source": [
    "print(trees_near_roads)"
   ]
  }
 ],
 "metadata": {
  "kernelspec": {
   "display_name": "Python 3",
   "language": "python",
   "name": "python3"
  },
  "language_info": {
   "codemirror_mode": {
    "name": "ipython",
    "version": 3
   },
   "file_extension": ".py",
   "mimetype": "text/x-python",
   "name": "python",
   "nbconvert_exporter": "python",
   "pygments_lexer": "ipython3",
   "version": "3.10.11"
  }
 },
 "nbformat": 4,
 "nbformat_minor": 2
}
